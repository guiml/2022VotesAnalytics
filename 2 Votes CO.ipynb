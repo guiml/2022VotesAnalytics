{
 "cells": [
  {
   "cell_type": "markdown",
   "metadata": {},
   "source": [
    "## Import libraries"
   ]
  },
  {
   "cell_type": "code",
   "execution_count": 1,
   "metadata": {},
   "outputs": [],
   "source": [
    "import pandas as pd\n",
    "import urllib.request\n",
    "import zipfile\n"
   ]
  },
  {
   "cell_type": "markdown",
   "metadata": {},
   "source": [
    "### Download the results file from the TSE Dados Abertos\n",
    "\n",
    "Uncomment when running the code for the first time, then you can comment again"
   ]
  },
  {
   "cell_type": "code",
   "execution_count": 2,
   "metadata": {},
   "outputs": [],
   "source": [
    "# url_download = 'https://cdn.tse.jus.br/estatistica/sead/odsele/votacao_secao/votacao_secao_2022_BR.zip'\n",
    "# opener = urllib.request.build_opener()\n",
    "# opener.addheaders = [('User-agent', 'Mozilla/5.0')]\n",
    "# urllib.request.install_opener(opener)\n",
    "# urllib.request.urlretrieve(url_download, f\"CSV/votacao_secao_2022_BR.zip\")"
   ]
  },
  {
   "cell_type": "markdown",
   "metadata": {},
   "source": [
    "If you prefer you can download the files manually: The full list of files can be found [here](https://dadosabertos.tse.jus.br/dataset/resultados-2022)!"
   ]
  },
  {
   "cell_type": "markdown",
   "metadata": {},
   "source": [
    "### Unzip the downloaded file\n",
    "\n",
    "\n",
    "Uncomment when running the code for the first time, then you can comment again"
   ]
  },
  {
   "cell_type": "code",
   "execution_count": 3,
   "metadata": {},
   "outputs": [],
   "source": [
    "# with zipfile.ZipFile(f\"CSV/votacao_secao_2022_BR.zip\", 'r') as zip_ref:\n",
    "#     zip_ref.extractall(\"CSV/\")"
   ]
  },
  {
   "cell_type": "markdown",
   "metadata": {},
   "source": [
    "### Read the extracted CSV"
   ]
  },
  {
   "cell_type": "code",
   "execution_count": 4,
   "metadata": {},
   "outputs": [],
   "source": [
    "df = pd.read_csv(\"CSV/votacao_secao_2022_BR.csv\", encoding=\"Latin 1\", sep=\";\", usecols=['NR_TURNO','SG_UF','NM_MUNICIPIO','NR_ZONA','NR_SECAO','DS_CARGO','NM_VOTAVEL','QT_VOTOS'])"
   ]
  },
  {
   "cell_type": "code",
   "execution_count": 5,
   "metadata": {},
   "outputs": [],
   "source": [
    "list_states = df['SG_UF'].unique()\n",
    "# df['SG_UF'].unique()\n",
    "df_co = df[df['SG_UF'].isin(['GO','MT','MS','DF'])]"
   ]
  },
  {
   "cell_type": "code",
   "execution_count": 6,
   "metadata": {},
   "outputs": [],
   "source": [
    "# Quality check, total votes for Lula in Bahia\n",
    "# df[(df['SG_UF']=='BA')&(df['NM_VOTAVEL']=='LUIZ INÁCIO LULA DA SILVA')&(df['DS_CARGO']=='PRESIDENTE')&(df['NR_TURNO']==2)]['QT_VOTOS'].sum()"
   ]
  },
  {
   "cell_type": "markdown",
   "metadata": {},
   "source": [
    "### Filter by 2o turno and exclude null and branco votes, "
   ]
  },
  {
   "cell_type": "code",
   "execution_count": 8,
   "metadata": {},
   "outputs": [],
   "source": [
    "df_co = df_co[(df_co['NR_TURNO']==2)].copy()"
   ]
  },
  {
   "cell_type": "markdown",
   "metadata": {},
   "source": [
    "## RUN PIVOT"
   ]
  },
  {
   "cell_type": "code",
   "execution_count": 9,
   "metadata": {},
   "outputs": [
    {
     "data": {
      "text/html": [
       "<div>\n",
       "<style scoped>\n",
       "    .dataframe tbody tr th:only-of-type {\n",
       "        vertical-align: middle;\n",
       "    }\n",
       "\n",
       "    .dataframe tbody tr th {\n",
       "        vertical-align: top;\n",
       "    }\n",
       "\n",
       "    .dataframe thead tr th {\n",
       "        text-align: left;\n",
       "    }\n",
       "\n",
       "    .dataframe thead tr:last-of-type th {\n",
       "        text-align: right;\n",
       "    }\n",
       "</style>\n",
       "<table border=\"1\" class=\"dataframe\">\n",
       "  <thead>\n",
       "    <tr>\n",
       "      <th></th>\n",
       "      <th></th>\n",
       "      <th colspan=\"4\" halign=\"left\">QT_VOTOS</th>\n",
       "    </tr>\n",
       "    <tr>\n",
       "      <th></th>\n",
       "      <th>NM_VOTAVEL</th>\n",
       "      <th>JAIR MESSIAS BOLSONARO</th>\n",
       "      <th>LUIZ INÁCIO LULA DA SILVA</th>\n",
       "      <th>VOTO BRANCO</th>\n",
       "      <th>VOTO NULO</th>\n",
       "    </tr>\n",
       "    <tr>\n",
       "      <th>SG_UF</th>\n",
       "      <th>NM_MUNICIPIO</th>\n",
       "      <th></th>\n",
       "      <th></th>\n",
       "      <th></th>\n",
       "      <th></th>\n",
       "    </tr>\n",
       "  </thead>\n",
       "  <tbody>\n",
       "    <tr>\n",
       "      <th>DF</th>\n",
       "      <th>BRASÍLIA</th>\n",
       "      <td>1041331</td>\n",
       "      <td>729295</td>\n",
       "      <td>29663</td>\n",
       "      <td>38203</td>\n",
       "    </tr>\n",
       "    <tr>\n",
       "      <th rowspan=\"4\" valign=\"top\">GO</th>\n",
       "      <th>ABADIA DE GOIÁS</th>\n",
       "      <td>5394</td>\n",
       "      <td>3814</td>\n",
       "      <td>79</td>\n",
       "      <td>110</td>\n",
       "    </tr>\n",
       "    <tr>\n",
       "      <th>ABADIÂNIA</th>\n",
       "      <td>5759</td>\n",
       "      <td>2774</td>\n",
       "      <td>81</td>\n",
       "      <td>155</td>\n",
       "    </tr>\n",
       "    <tr>\n",
       "      <th>ACREÚNA</th>\n",
       "      <td>6597</td>\n",
       "      <td>5210</td>\n",
       "      <td>102</td>\n",
       "      <td>185</td>\n",
       "    </tr>\n",
       "    <tr>\n",
       "      <th>ADELÂNDIA</th>\n",
       "      <td>1517</td>\n",
       "      <td>651</td>\n",
       "      <td>11</td>\n",
       "      <td>27</td>\n",
       "    </tr>\n",
       "    <tr>\n",
       "      <th>...</th>\n",
       "      <th>...</th>\n",
       "      <td>...</td>\n",
       "      <td>...</td>\n",
       "      <td>...</td>\n",
       "      <td>...</td>\n",
       "    </tr>\n",
       "    <tr>\n",
       "      <th rowspan=\"5\" valign=\"top\">MT</th>\n",
       "      <th>VERA</th>\n",
       "      <td>3847</td>\n",
       "      <td>1495</td>\n",
       "      <td>46</td>\n",
       "      <td>71</td>\n",
       "    </tr>\n",
       "    <tr>\n",
       "      <th>VILA BELA DA SANTÍSSIMA TRINDADE</th>\n",
       "      <td>4157</td>\n",
       "      <td>3140</td>\n",
       "      <td>47</td>\n",
       "      <td>111</td>\n",
       "    </tr>\n",
       "    <tr>\n",
       "      <th>VILA RICA</th>\n",
       "      <td>6914</td>\n",
       "      <td>2984</td>\n",
       "      <td>60</td>\n",
       "      <td>140</td>\n",
       "    </tr>\n",
       "    <tr>\n",
       "      <th>VÁRZEA GRANDE</th>\n",
       "      <td>84427</td>\n",
       "      <td>59268</td>\n",
       "      <td>1420</td>\n",
       "      <td>2343</td>\n",
       "    </tr>\n",
       "    <tr>\n",
       "      <th>ÁGUA BOA</th>\n",
       "      <td>11324</td>\n",
       "      <td>3117</td>\n",
       "      <td>93</td>\n",
       "      <td>141</td>\n",
       "    </tr>\n",
       "  </tbody>\n",
       "</table>\n",
       "<p>467 rows × 4 columns</p>\n",
       "</div>"
      ],
      "text/plain": [
       "                                                     QT_VOTOS  \\\n",
       "NM_VOTAVEL                             JAIR MESSIAS BOLSONARO   \n",
       "SG_UF NM_MUNICIPIO                                              \n",
       "DF    BRASÍLIA                                        1041331   \n",
       "GO    ABADIA DE GOIÁS                                    5394   \n",
       "      ABADIÂNIA                                          5759   \n",
       "      ACREÚNA                                            6597   \n",
       "      ADELÂNDIA                                          1517   \n",
       "...                                                       ...   \n",
       "MT    VERA                                               3847   \n",
       "      VILA BELA DA SANTÍSSIMA TRINDADE                   4157   \n",
       "      VILA RICA                                          6914   \n",
       "      VÁRZEA GRANDE                                     84427   \n",
       "      ÁGUA BOA                                          11324   \n",
       "\n",
       "                                                                              \\\n",
       "NM_VOTAVEL                             LUIZ INÁCIO LULA DA SILVA VOTO BRANCO   \n",
       "SG_UF NM_MUNICIPIO                                                             \n",
       "DF    BRASÍLIA                                            729295       29663   \n",
       "GO    ABADIA DE GOIÁS                                       3814          79   \n",
       "      ABADIÂNIA                                             2774          81   \n",
       "      ACREÚNA                                               5210         102   \n",
       "      ADELÂNDIA                                              651          11   \n",
       "...                                                          ...         ...   \n",
       "MT    VERA                                                  1495          46   \n",
       "      VILA BELA DA SANTÍSSIMA TRINDADE                      3140          47   \n",
       "      VILA RICA                                             2984          60   \n",
       "      VÁRZEA GRANDE                                        59268        1420   \n",
       "      ÁGUA BOA                                              3117          93   \n",
       "\n",
       "                                                  \n",
       "NM_VOTAVEL                             VOTO NULO  \n",
       "SG_UF NM_MUNICIPIO                                \n",
       "DF    BRASÍLIA                             38203  \n",
       "GO    ABADIA DE GOIÁS                        110  \n",
       "      ABADIÂNIA                              155  \n",
       "      ACREÚNA                                185  \n",
       "      ADELÂNDIA                               27  \n",
       "...                                          ...  \n",
       "MT    VERA                                    71  \n",
       "      VILA BELA DA SANTÍSSIMA TRINDADE       111  \n",
       "      VILA RICA                              140  \n",
       "      VÁRZEA GRANDE                         2343  \n",
       "      ÁGUA BOA                               141  \n",
       "\n",
       "[467 rows x 4 columns]"
      ]
     },
     "execution_count": 9,
     "metadata": {},
     "output_type": "execute_result"
    }
   ],
   "source": [
    "results_co = df_co[['SG_UF','NM_MUNICIPIO','NM_VOTAVEL','QT_VOTOS']].groupby(by=['SG_UF','NM_MUNICIPIO','NM_VOTAVEL']).sum(\"QT_VOTOS\")\n",
    "pivot_co = results_co.unstack(level='NM_VOTAVEL')\n",
    "pivot_co"
   ]
  },
  {
   "cell_type": "code",
   "execution_count": 10,
   "metadata": {},
   "outputs": [
    {
     "data": {
      "text/html": [
       "<div>\n",
       "<style scoped>\n",
       "    .dataframe tbody tr th:only-of-type {\n",
       "        vertical-align: middle;\n",
       "    }\n",
       "\n",
       "    .dataframe tbody tr th {\n",
       "        vertical-align: top;\n",
       "    }\n",
       "\n",
       "    .dataframe thead tr th {\n",
       "        text-align: left;\n",
       "    }\n",
       "\n",
       "    .dataframe thead tr:last-of-type th {\n",
       "        text-align: right;\n",
       "    }\n",
       "</style>\n",
       "<table border=\"1\" class=\"dataframe\">\n",
       "  <thead>\n",
       "    <tr>\n",
       "      <th></th>\n",
       "      <th></th>\n",
       "      <th></th>\n",
       "      <th></th>\n",
       "      <th colspan=\"4\" halign=\"left\">QT_VOTOS</th>\n",
       "    </tr>\n",
       "    <tr>\n",
       "      <th></th>\n",
       "      <th></th>\n",
       "      <th></th>\n",
       "      <th>NM_VOTAVEL</th>\n",
       "      <th>JAIR MESSIAS BOLSONARO</th>\n",
       "      <th>LUIZ INÁCIO LULA DA SILVA</th>\n",
       "      <th>VOTO BRANCO</th>\n",
       "      <th>VOTO NULO</th>\n",
       "    </tr>\n",
       "    <tr>\n",
       "      <th>SG_UF</th>\n",
       "      <th>NM_MUNICIPIO</th>\n",
       "      <th>NR_ZONA</th>\n",
       "      <th>NR_SECAO</th>\n",
       "      <th></th>\n",
       "      <th></th>\n",
       "      <th></th>\n",
       "      <th></th>\n",
       "    </tr>\n",
       "  </thead>\n",
       "  <tbody>\n",
       "    <tr>\n",
       "      <th rowspan=\"5\" valign=\"top\">DF</th>\n",
       "      <th rowspan=\"5\" valign=\"top\">BRASÍLIA</th>\n",
       "      <th rowspan=\"5\" valign=\"top\">1</th>\n",
       "      <th>1</th>\n",
       "      <td>120.0</td>\n",
       "      <td>90.0</td>\n",
       "      <td>3.0</td>\n",
       "      <td>8.0</td>\n",
       "    </tr>\n",
       "    <tr>\n",
       "      <th>2</th>\n",
       "      <td>114.0</td>\n",
       "      <td>96.0</td>\n",
       "      <td>4.0</td>\n",
       "      <td>9.0</td>\n",
       "    </tr>\n",
       "    <tr>\n",
       "      <th>3</th>\n",
       "      <td>120.0</td>\n",
       "      <td>79.0</td>\n",
       "      <td>10.0</td>\n",
       "      <td>4.0</td>\n",
       "    </tr>\n",
       "    <tr>\n",
       "      <th>4</th>\n",
       "      <td>115.0</td>\n",
       "      <td>80.0</td>\n",
       "      <td>6.0</td>\n",
       "      <td>8.0</td>\n",
       "    </tr>\n",
       "    <tr>\n",
       "      <th>5</th>\n",
       "      <td>111.0</td>\n",
       "      <td>87.0</td>\n",
       "      <td>5.0</td>\n",
       "      <td>5.0</td>\n",
       "    </tr>\n",
       "    <tr>\n",
       "      <th>...</th>\n",
       "      <th>...</th>\n",
       "      <th>...</th>\n",
       "      <th>...</th>\n",
       "      <td>...</td>\n",
       "      <td>...</td>\n",
       "      <td>...</td>\n",
       "      <td>...</td>\n",
       "    </tr>\n",
       "    <tr>\n",
       "      <th rowspan=\"5\" valign=\"top\">MT</th>\n",
       "      <th rowspan=\"5\" valign=\"top\">ÁGUA BOA</th>\n",
       "      <th rowspan=\"5\" valign=\"top\">30</th>\n",
       "      <th>98</th>\n",
       "      <td>152.0</td>\n",
       "      <td>46.0</td>\n",
       "      <td>NaN</td>\n",
       "      <td>NaN</td>\n",
       "    </tr>\n",
       "    <tr>\n",
       "      <th>99</th>\n",
       "      <td>131.0</td>\n",
       "      <td>58.0</td>\n",
       "      <td>1.0</td>\n",
       "      <td>NaN</td>\n",
       "    </tr>\n",
       "    <tr>\n",
       "      <th>100</th>\n",
       "      <td>177.0</td>\n",
       "      <td>59.0</td>\n",
       "      <td>2.0</td>\n",
       "      <td>2.0</td>\n",
       "    </tr>\n",
       "    <tr>\n",
       "      <th>101</th>\n",
       "      <td>99.0</td>\n",
       "      <td>52.0</td>\n",
       "      <td>3.0</td>\n",
       "      <td>3.0</td>\n",
       "    </tr>\n",
       "    <tr>\n",
       "      <th>102</th>\n",
       "      <td>127.0</td>\n",
       "      <td>39.0</td>\n",
       "      <td>1.0</td>\n",
       "      <td>4.0</td>\n",
       "    </tr>\n",
       "  </tbody>\n",
       "</table>\n",
       "<p>35932 rows × 4 columns</p>\n",
       "</div>"
      ],
      "text/plain": [
       "                                                  QT_VOTOS  \\\n",
       "NM_VOTAVEL                          JAIR MESSIAS BOLSONARO   \n",
       "SG_UF NM_MUNICIPIO NR_ZONA NR_SECAO                          \n",
       "DF    BRASÍLIA     1       1                         120.0   \n",
       "                           2                         114.0   \n",
       "                           3                         120.0   \n",
       "                           4                         115.0   \n",
       "                           5                         111.0   \n",
       "...                                                    ...   \n",
       "MT    ÁGUA BOA     30      98                        152.0   \n",
       "                           99                        131.0   \n",
       "                           100                       177.0   \n",
       "                           101                        99.0   \n",
       "                           102                       127.0   \n",
       "\n",
       "                                                                           \\\n",
       "NM_VOTAVEL                          LUIZ INÁCIO LULA DA SILVA VOTO BRANCO   \n",
       "SG_UF NM_MUNICIPIO NR_ZONA NR_SECAO                                         \n",
       "DF    BRASÍLIA     1       1                             90.0         3.0   \n",
       "                           2                             96.0         4.0   \n",
       "                           3                             79.0        10.0   \n",
       "                           4                             80.0         6.0   \n",
       "                           5                             87.0         5.0   \n",
       "...                                                       ...         ...   \n",
       "MT    ÁGUA BOA     30      98                            46.0         NaN   \n",
       "                           99                            58.0         1.0   \n",
       "                           100                           59.0         2.0   \n",
       "                           101                           52.0         3.0   \n",
       "                           102                           39.0         1.0   \n",
       "\n",
       "                                               \n",
       "NM_VOTAVEL                          VOTO NULO  \n",
       "SG_UF NM_MUNICIPIO NR_ZONA NR_SECAO            \n",
       "DF    BRASÍLIA     1       1              8.0  \n",
       "                           2              9.0  \n",
       "                           3              4.0  \n",
       "                           4              8.0  \n",
       "                           5              5.0  \n",
       "...                                       ...  \n",
       "MT    ÁGUA BOA     30      98             NaN  \n",
       "                           99             NaN  \n",
       "                           100            2.0  \n",
       "                           101            3.0  \n",
       "                           102            4.0  \n",
       "\n",
       "[35932 rows x 4 columns]"
      ]
     },
     "execution_count": 10,
     "metadata": {},
     "output_type": "execute_result"
    }
   ],
   "source": [
    "results_co_sessao = df_co[['SG_UF','NM_MUNICIPIO','NR_ZONA','NR_SECAO','NM_VOTAVEL','QT_VOTOS']].groupby(by=['SG_UF','NM_MUNICIPIO','NR_ZONA','NR_SECAO','NM_VOTAVEL']).sum(\"QT_VOTOS\")\n",
    "pivot_co_sessao = results_co_sessao.unstack(level='NM_VOTAVEL')\n",
    "pivot_co_sessao"
   ]
  },
  {
   "cell_type": "markdown",
   "metadata": {},
   "source": [
    "## Export PIVOT"
   ]
  },
  {
   "cell_type": "code",
   "execution_count": 11,
   "metadata": {},
   "outputs": [],
   "source": [
    "pivot_co_sessao.to_excel(\"Output/pivot_co_sessao_2turno.xlsx\", merge_cells=False)"
   ]
  },
  {
   "cell_type": "code",
   "execution_count": null,
   "metadata": {},
   "outputs": [],
   "source": [
    "# df_results = df_ne[['SG_UF','NM_MUNICIPIO']].copy()\n",
    "# df_results['Lula_abslt'] = \"\"\n",
    "# df_results['Bolsonaro_abslt'] = \"\"\n",
    "# df_results['Lula_pctg'] = \"\"\n",
    "# df_results['Bolsonaro_pctg'] = \"\"\n",
    "# df_results['VotosTotais'] = \"\"\n",
    "# df_results.drop_duplicates(inplace=True)\n",
    "# df_results = df_results.sort_values(by='SG_UF')\n",
    "# df_results"
   ]
  },
  {
   "cell_type": "code",
   "execution_count": null,
   "metadata": {},
   "outputs": [],
   "source": [
    "# for i,r in df_results.iterrows():\n",
    "#     print(r['SG_UF'],r['NM_MUNICIPIO'])\n",
    "#     uf = r['SG_UF']\n",
    "#     muni = r['NM_MUNICIPIO']\n",
    "#     results = df_ne[(df_ne['SG_UF']==uf)&(df_ne['NM_MUNICIPIO']==muni)][['NM_VOTAVEL','QT_VOTOS']].groupby(by='NM_VOTAVEL').sum(\"QT_VOTOS\")\n",
    "#     results['pctg'] = (results.QT_VOTOS / results.QT_VOTOS.sum())*100\n",
    "#     df_results.at[i,'Lula_pctg'] = results[results.index=='LUIZ INÁCIO LULA DA SILVA']['pctg'][0]\n",
    "#     df_results.at[i,'Lula_abslt'] = results[results.index=='LUIZ INÁCIO LULA DA SILVA']['QT_VOTOS'][0]\n",
    "#     bolsonaro_pctg = results[results.index=='JAIR MESSIAS BOLSONARO']['pctg'][0]\n",
    "#     bolsonaro_abslt = results[results.index=='JAIR MESSIAS BOLSONARO']['QT_VOTOS'][0]    \n",
    "#     df_results.at[i,'Bolsonaro_pctg'] = bolsonaro_pctg\n",
    "#     df_results.at[i,'Bolsonaro_abslt'] = bolsonaro_abslt\n",
    "#     df_results.at[i,'VotosTotais'] = results.QT_VOTOS.sum()"
   ]
  },
  {
   "cell_type": "code",
   "execution_count": null,
   "metadata": {},
   "outputs": [],
   "source": [
    "# df_results.sort_values(by='Bolsonaro_abslt')"
   ]
  },
  {
   "cell_type": "markdown",
   "metadata": {},
   "source": [
    "### Check specific Sessao and Zona"
   ]
  },
  {
   "cell_type": "code",
   "execution_count": null,
   "metadata": {},
   "outputs": [
    {
     "data": {
      "text/html": [
       "<div>\n",
       "<style scoped>\n",
       "    .dataframe tbody tr th:only-of-type {\n",
       "        vertical-align: middle;\n",
       "    }\n",
       "\n",
       "    .dataframe tbody tr th {\n",
       "        vertical-align: top;\n",
       "    }\n",
       "\n",
       "    .dataframe thead th {\n",
       "        text-align: right;\n",
       "    }\n",
       "</style>\n",
       "<table border=\"1\" class=\"dataframe\">\n",
       "  <thead>\n",
       "    <tr style=\"text-align: right;\">\n",
       "      <th></th>\n",
       "      <th>SG_UF</th>\n",
       "      <th>NM_MUNICIPIO</th>\n",
       "      <th>NM_VOTAVEL</th>\n",
       "      <th>QT_VOTOS</th>\n",
       "    </tr>\n",
       "  </thead>\n",
       "  <tbody>\n",
       "    <tr>\n",
       "      <th>4024778</th>\n",
       "      <td>BA</td>\n",
       "      <td>PILÃO ARCADO</td>\n",
       "      <td>LUIZ INÁCIO LULA DA SILVA</td>\n",
       "      <td>65</td>\n",
       "    </tr>\n",
       "  </tbody>\n",
       "</table>\n",
       "</div>"
      ],
      "text/plain": [
       "        SG_UF  NM_MUNICIPIO                 NM_VOTAVEL  QT_VOTOS\n",
       "4024778    BA  PILÃO ARCADO  LUIZ INÁCIO LULA DA SILVA        65"
      ]
     },
     "execution_count": 37,
     "metadata": {},
     "output_type": "execute_result"
    }
   ],
   "source": [
    "zona = 195\n",
    "secao = 76\n",
    "check_secao = df_ne[(df_ne['NR_ZONA']==zona)&(df_ne['NR_SECAO']==secao)][['NM_VOTAVEL','QT_VOTOS']].groupby(by='NM_VOTAVEL').sum(\"QT_VOTOS\")\n",
    "df_ne[(df_ne['NR_ZONA']==zona)&(df_ne['NR_SECAO']==secao)][['SG_UF','NM_MUNICIPIO','NM_VOTAVEL','QT_VOTOS']]"
   ]
  }
 ],
 "metadata": {
  "kernelspec": {
   "display_name": "Python 3.9.13 ('gisvenv')",
   "language": "python",
   "name": "python3"
  },
  "language_info": {
   "codemirror_mode": {
    "name": "ipython",
    "version": 3
   },
   "file_extension": ".py",
   "mimetype": "text/x-python",
   "name": "python",
   "nbconvert_exporter": "python",
   "pygments_lexer": "ipython3",
   "version": "3.9.13"
  },
  "orig_nbformat": 4,
  "vscode": {
   "interpreter": {
    "hash": "a57a499e38a7967fa040836637b94548b2659327652d4f3c957151201e60ecd4"
   }
  }
 },
 "nbformat": 4,
 "nbformat_minor": 2
}
