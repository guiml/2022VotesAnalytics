{
 "cells": [
  {
   "cell_type": "markdown",
   "metadata": {},
   "source": [
    "## Import libraries"
   ]
  },
  {
   "cell_type": "code",
   "execution_count": 24,
   "metadata": {},
   "outputs": [],
   "source": [
    "import pandas as pd\n",
    "import urllib.request\n",
    "import zipfile\n"
   ]
  },
  {
   "cell_type": "markdown",
   "metadata": {},
   "source": [
    "### Download the results file from the TSE Dados Abertos\n",
    "\n",
    "Uncomment when running the code for the first time, then you can comment again"
   ]
  },
  {
   "cell_type": "code",
   "execution_count": 25,
   "metadata": {},
   "outputs": [],
   "source": [
    "# url_download = 'https://cdn.tse.jus.br/estatistica/sead/odsele/votacao_secao/votacao_secao_2022_BR.zip'\n",
    "# opener = urllib.request.build_opener()\n",
    "# opener.addheaders = [('User-agent', 'Mozilla/5.0')]\n",
    "# urllib.request.install_opener(opener)\n",
    "# urllib.request.urlretrieve(url_download, f\"CSV/votacao_secao_2022_BR.zip\")"
   ]
  },
  {
   "cell_type": "markdown",
   "metadata": {},
   "source": [
    "If you prefer you can download the files manually: The full list of files can be found [here](https://dadosabertos.tse.jus.br/dataset/resultados-2022)!"
   ]
  },
  {
   "cell_type": "markdown",
   "metadata": {},
   "source": [
    "### Unzip the downloaded file\n",
    "\n",
    "\n",
    "Uncomment when running the code for the first time, then you can comment again"
   ]
  },
  {
   "cell_type": "code",
   "execution_count": 26,
   "metadata": {},
   "outputs": [],
   "source": [
    "# with zipfile.ZipFile(f\"CSV/votacao_secao_2022_BR.zip\", 'r') as zip_ref:\n",
    "#     zip_ref.extractall(\"CSV/\")"
   ]
  },
  {
   "cell_type": "markdown",
   "metadata": {},
   "source": [
    "### Read the extracted CSV"
   ]
  },
  {
   "cell_type": "code",
   "execution_count": 27,
   "metadata": {},
   "outputs": [],
   "source": [
    "df = pd.read_csv(\"CSV/votacao_secao_2022_BR.csv\", encoding=\"Latin 1\", sep=\";\", usecols=['NR_TURNO','SG_UF','NM_MUNICIPIO','NR_ZONA','NR_SECAO','DS_CARGO','NM_VOTAVEL','QT_VOTOS'])"
   ]
  },
  {
   "cell_type": "code",
   "execution_count": 48,
   "metadata": {},
   "outputs": [],
   "source": [
    "list_states = df['SG_UF'].unique()\n",
    "# df['SG_UF'].unique()\n",
    "df_ne = df[df['SG_UF'].isin(['BA','MA','PI','RN','PB','SE','CE','PE','AL'])]"
   ]
  },
  {
   "cell_type": "code",
   "execution_count": 49,
   "metadata": {},
   "outputs": [],
   "source": [
    "# Quality check, total votes for Lula in Bahia\n",
    "# df[(df['SG_UF']=='BA')&(df['NM_VOTAVEL']=='LUIZ INÁCIO LULA DA SILVA')&(df['DS_CARGO']=='PRESIDENTE')&(df['NR_TURNO']==2)]['QT_VOTOS'].sum()"
   ]
  },
  {
   "cell_type": "markdown",
   "metadata": {},
   "source": [
    "### Filter by 2o turno and exclude null and branco votes, "
   ]
  },
  {
   "cell_type": "code",
   "execution_count": 50,
   "metadata": {},
   "outputs": [],
   "source": [
    "df_ne = df_ne[(df_ne['NR_TURNO']==2)].copy()"
   ]
  },
  {
   "cell_type": "markdown",
   "metadata": {},
   "source": [
    "## RUN PIVOT"
   ]
  },
  {
   "cell_type": "code",
   "execution_count": 51,
   "metadata": {},
   "outputs": [
    {
     "data": {
      "text/html": [
       "<div>\n",
       "<style scoped>\n",
       "    .dataframe tbody tr th:only-of-type {\n",
       "        vertical-align: middle;\n",
       "    }\n",
       "\n",
       "    .dataframe tbody tr th {\n",
       "        vertical-align: top;\n",
       "    }\n",
       "\n",
       "    .dataframe thead tr th {\n",
       "        text-align: left;\n",
       "    }\n",
       "\n",
       "    .dataframe thead tr:last-of-type th {\n",
       "        text-align: right;\n",
       "    }\n",
       "</style>\n",
       "<table border=\"1\" class=\"dataframe\">\n",
       "  <thead>\n",
       "    <tr>\n",
       "      <th></th>\n",
       "      <th></th>\n",
       "      <th colspan=\"4\" halign=\"left\">QT_VOTOS</th>\n",
       "    </tr>\n",
       "    <tr>\n",
       "      <th></th>\n",
       "      <th>NM_VOTAVEL</th>\n",
       "      <th>JAIR MESSIAS BOLSONARO</th>\n",
       "      <th>LUIZ INÁCIO LULA DA SILVA</th>\n",
       "      <th>VOTO BRANCO</th>\n",
       "      <th>VOTO NULO</th>\n",
       "    </tr>\n",
       "    <tr>\n",
       "      <th>SG_UF</th>\n",
       "      <th>NM_MUNICIPIO</th>\n",
       "      <th></th>\n",
       "      <th></th>\n",
       "      <th></th>\n",
       "      <th></th>\n",
       "    </tr>\n",
       "  </thead>\n",
       "  <tbody>\n",
       "    <tr>\n",
       "      <th rowspan=\"5\" valign=\"top\">AL</th>\n",
       "      <th>ANADIA</th>\n",
       "      <td>2019</td>\n",
       "      <td>6166</td>\n",
       "      <td>110</td>\n",
       "      <td>571</td>\n",
       "    </tr>\n",
       "    <tr>\n",
       "      <th>ARAPIRACA</th>\n",
       "      <td>54674</td>\n",
       "      <td>61009</td>\n",
       "      <td>1726</td>\n",
       "      <td>6289</td>\n",
       "    </tr>\n",
       "    <tr>\n",
       "      <th>ATALAIA</th>\n",
       "      <td>7544</td>\n",
       "      <td>13340</td>\n",
       "      <td>326</td>\n",
       "      <td>1412</td>\n",
       "    </tr>\n",
       "    <tr>\n",
       "      <th>BARRA DE SANTO ANTÔNIO</th>\n",
       "      <td>3586</td>\n",
       "      <td>5155</td>\n",
       "      <td>112</td>\n",
       "      <td>532</td>\n",
       "    </tr>\n",
       "    <tr>\n",
       "      <th>BARRA DE SÃO MIGUEL</th>\n",
       "      <td>2871</td>\n",
       "      <td>2699</td>\n",
       "      <td>61</td>\n",
       "      <td>286</td>\n",
       "    </tr>\n",
       "    <tr>\n",
       "      <th>...</th>\n",
       "      <th>...</th>\n",
       "      <td>...</td>\n",
       "      <td>...</td>\n",
       "      <td>...</td>\n",
       "      <td>...</td>\n",
       "    </tr>\n",
       "    <tr>\n",
       "      <th rowspan=\"5\" valign=\"top\">SE</th>\n",
       "      <th>SÃO MIGUEL DO ALEIXO</th>\n",
       "      <td>701</td>\n",
       "      <td>2273</td>\n",
       "      <td>22</td>\n",
       "      <td>125</td>\n",
       "    </tr>\n",
       "    <tr>\n",
       "      <th>TELHA</th>\n",
       "      <td>900</td>\n",
       "      <td>1925</td>\n",
       "      <td>24</td>\n",
       "      <td>103</td>\n",
       "    </tr>\n",
       "    <tr>\n",
       "      <th>TOBIAS BARRETO</th>\n",
       "      <td>9726</td>\n",
       "      <td>22390</td>\n",
       "      <td>328</td>\n",
       "      <td>1046</td>\n",
       "    </tr>\n",
       "    <tr>\n",
       "      <th>TOMAR DO GERU</th>\n",
       "      <td>2086</td>\n",
       "      <td>4993</td>\n",
       "      <td>127</td>\n",
       "      <td>382</td>\n",
       "    </tr>\n",
       "    <tr>\n",
       "      <th>UMBAÚBA</th>\n",
       "      <td>4115</td>\n",
       "      <td>9930</td>\n",
       "      <td>243</td>\n",
       "      <td>552</td>\n",
       "    </tr>\n",
       "  </tbody>\n",
       "</table>\n",
       "<p>1794 rows × 4 columns</p>\n",
       "</div>"
      ],
      "text/plain": [
       "                                           QT_VOTOS                            \\\n",
       "NM_VOTAVEL                   JAIR MESSIAS BOLSONARO LUIZ INÁCIO LULA DA SILVA   \n",
       "SG_UF NM_MUNICIPIO                                                              \n",
       "AL    ANADIA                                   2019                      6166   \n",
       "      ARAPIRACA                               54674                     61009   \n",
       "      ATALAIA                                  7544                     13340   \n",
       "      BARRA DE SANTO ANTÔNIO                   3586                      5155   \n",
       "      BARRA DE SÃO MIGUEL                      2871                      2699   \n",
       "...                                             ...                       ...   \n",
       "SE    SÃO MIGUEL DO ALEIXO                      701                      2273   \n",
       "      TELHA                                     900                      1925   \n",
       "      TOBIAS BARRETO                           9726                     22390   \n",
       "      TOMAR DO GERU                            2086                      4993   \n",
       "      UMBAÚBA                                  4115                      9930   \n",
       "\n",
       "                                                    \n",
       "NM_VOTAVEL                   VOTO BRANCO VOTO NULO  \n",
       "SG_UF NM_MUNICIPIO                                  \n",
       "AL    ANADIA                         110       571  \n",
       "      ARAPIRACA                     1726      6289  \n",
       "      ATALAIA                        326      1412  \n",
       "      BARRA DE SANTO ANTÔNIO         112       532  \n",
       "      BARRA DE SÃO MIGUEL             61       286  \n",
       "...                                  ...       ...  \n",
       "SE    SÃO MIGUEL DO ALEIXO            22       125  \n",
       "      TELHA                           24       103  \n",
       "      TOBIAS BARRETO                 328      1046  \n",
       "      TOMAR DO GERU                  127       382  \n",
       "      UMBAÚBA                        243       552  \n",
       "\n",
       "[1794 rows x 4 columns]"
      ]
     },
     "execution_count": 51,
     "metadata": {},
     "output_type": "execute_result"
    }
   ],
   "source": [
    "results_ne = df_ne[['SG_UF','NM_MUNICIPIO','NM_VOTAVEL','QT_VOTOS']].groupby(by=['SG_UF','NM_MUNICIPIO','NM_VOTAVEL']).sum(\"QT_VOTOS\")\n",
    "pivot_ne = results_ne.unstack(level='NM_VOTAVEL')\n",
    "pivot_ne"
   ]
  },
  {
   "cell_type": "code",
   "execution_count": 52,
   "metadata": {},
   "outputs": [
    {
     "data": {
      "text/html": [
       "<div>\n",
       "<style scoped>\n",
       "    .dataframe tbody tr th:only-of-type {\n",
       "        vertical-align: middle;\n",
       "    }\n",
       "\n",
       "    .dataframe tbody tr th {\n",
       "        vertical-align: top;\n",
       "    }\n",
       "\n",
       "    .dataframe thead tr th {\n",
       "        text-align: left;\n",
       "    }\n",
       "\n",
       "    .dataframe thead tr:last-of-type th {\n",
       "        text-align: right;\n",
       "    }\n",
       "</style>\n",
       "<table border=\"1\" class=\"dataframe\">\n",
       "  <thead>\n",
       "    <tr>\n",
       "      <th></th>\n",
       "      <th></th>\n",
       "      <th></th>\n",
       "      <th></th>\n",
       "      <th colspan=\"4\" halign=\"left\">QT_VOTOS</th>\n",
       "    </tr>\n",
       "    <tr>\n",
       "      <th></th>\n",
       "      <th></th>\n",
       "      <th></th>\n",
       "      <th>NM_VOTAVEL</th>\n",
       "      <th>JAIR MESSIAS BOLSONARO</th>\n",
       "      <th>LUIZ INÁCIO LULA DA SILVA</th>\n",
       "      <th>VOTO BRANCO</th>\n",
       "      <th>VOTO NULO</th>\n",
       "    </tr>\n",
       "    <tr>\n",
       "      <th>SG_UF</th>\n",
       "      <th>NM_MUNICIPIO</th>\n",
       "      <th>NR_ZONA</th>\n",
       "      <th>NR_SECAO</th>\n",
       "      <th></th>\n",
       "      <th></th>\n",
       "      <th></th>\n",
       "      <th></th>\n",
       "    </tr>\n",
       "  </thead>\n",
       "  <tbody>\n",
       "    <tr>\n",
       "      <th rowspan=\"5\" valign=\"top\">AL</th>\n",
       "      <th rowspan=\"5\" valign=\"top\">ANADIA</th>\n",
       "      <th rowspan=\"5\" valign=\"top\">48</th>\n",
       "      <th>90</th>\n",
       "      <td>44.0</td>\n",
       "      <td>181.0</td>\n",
       "      <td>NaN</td>\n",
       "      <td>25.0</td>\n",
       "    </tr>\n",
       "    <tr>\n",
       "      <th>91</th>\n",
       "      <td>50.0</td>\n",
       "      <td>170.0</td>\n",
       "      <td>1.0</td>\n",
       "      <td>25.0</td>\n",
       "    </tr>\n",
       "    <tr>\n",
       "      <th>92</th>\n",
       "      <td>61.0</td>\n",
       "      <td>163.0</td>\n",
       "      <td>3.0</td>\n",
       "      <td>11.0</td>\n",
       "    </tr>\n",
       "    <tr>\n",
       "      <th>93</th>\n",
       "      <td>31.0</td>\n",
       "      <td>136.0</td>\n",
       "      <td>4.0</td>\n",
       "      <td>7.0</td>\n",
       "    </tr>\n",
       "    <tr>\n",
       "      <th>94</th>\n",
       "      <td>29.0</td>\n",
       "      <td>116.0</td>\n",
       "      <td>2.0</td>\n",
       "      <td>13.0</td>\n",
       "    </tr>\n",
       "    <tr>\n",
       "      <th>...</th>\n",
       "      <th>...</th>\n",
       "      <th>...</th>\n",
       "      <th>...</th>\n",
       "      <td>...</td>\n",
       "      <td>...</td>\n",
       "      <td>...</td>\n",
       "      <td>...</td>\n",
       "    </tr>\n",
       "    <tr>\n",
       "      <th rowspan=\"5\" valign=\"top\">SE</th>\n",
       "      <th rowspan=\"5\" valign=\"top\">UMBAÚBA</th>\n",
       "      <th rowspan=\"5\" valign=\"top\">35</th>\n",
       "      <th>148</th>\n",
       "      <td>30.0</td>\n",
       "      <td>98.0</td>\n",
       "      <td>4.0</td>\n",
       "      <td>4.0</td>\n",
       "    </tr>\n",
       "    <tr>\n",
       "      <th>152</th>\n",
       "      <td>76.0</td>\n",
       "      <td>134.0</td>\n",
       "      <td>4.0</td>\n",
       "      <td>8.0</td>\n",
       "    </tr>\n",
       "    <tr>\n",
       "      <th>154</th>\n",
       "      <td>100.0</td>\n",
       "      <td>163.0</td>\n",
       "      <td>3.0</td>\n",
       "      <td>7.0</td>\n",
       "    </tr>\n",
       "    <tr>\n",
       "      <th>155</th>\n",
       "      <td>36.0</td>\n",
       "      <td>171.0</td>\n",
       "      <td>2.0</td>\n",
       "      <td>7.0</td>\n",
       "    </tr>\n",
       "    <tr>\n",
       "      <th>158</th>\n",
       "      <td>71.0</td>\n",
       "      <td>151.0</td>\n",
       "      <td>6.0</td>\n",
       "      <td>3.0</td>\n",
       "    </tr>\n",
       "  </tbody>\n",
       "</table>\n",
       "<p>132578 rows × 4 columns</p>\n",
       "</div>"
      ],
      "text/plain": [
       "                                                  QT_VOTOS  \\\n",
       "NM_VOTAVEL                          JAIR MESSIAS BOLSONARO   \n",
       "SG_UF NM_MUNICIPIO NR_ZONA NR_SECAO                          \n",
       "AL    ANADIA       48      90                         44.0   \n",
       "                           91                         50.0   \n",
       "                           92                         61.0   \n",
       "                           93                         31.0   \n",
       "                           94                         29.0   \n",
       "...                                                    ...   \n",
       "SE    UMBAÚBA      35      148                        30.0   \n",
       "                           152                        76.0   \n",
       "                           154                       100.0   \n",
       "                           155                        36.0   \n",
       "                           158                        71.0   \n",
       "\n",
       "                                                                           \\\n",
       "NM_VOTAVEL                          LUIZ INÁCIO LULA DA SILVA VOTO BRANCO   \n",
       "SG_UF NM_MUNICIPIO NR_ZONA NR_SECAO                                         \n",
       "AL    ANADIA       48      90                           181.0         NaN   \n",
       "                           91                           170.0         1.0   \n",
       "                           92                           163.0         3.0   \n",
       "                           93                           136.0         4.0   \n",
       "                           94                           116.0         2.0   \n",
       "...                                                       ...         ...   \n",
       "SE    UMBAÚBA      35      148                           98.0         4.0   \n",
       "                           152                          134.0         4.0   \n",
       "                           154                          163.0         3.0   \n",
       "                           155                          171.0         2.0   \n",
       "                           158                          151.0         6.0   \n",
       "\n",
       "                                               \n",
       "NM_VOTAVEL                          VOTO NULO  \n",
       "SG_UF NM_MUNICIPIO NR_ZONA NR_SECAO            \n",
       "AL    ANADIA       48      90            25.0  \n",
       "                           91            25.0  \n",
       "                           92            11.0  \n",
       "                           93             7.0  \n",
       "                           94            13.0  \n",
       "...                                       ...  \n",
       "SE    UMBAÚBA      35      148            4.0  \n",
       "                           152            8.0  \n",
       "                           154            7.0  \n",
       "                           155            7.0  \n",
       "                           158            3.0  \n",
       "\n",
       "[132578 rows x 4 columns]"
      ]
     },
     "execution_count": 52,
     "metadata": {},
     "output_type": "execute_result"
    }
   ],
   "source": [
    "results_ne_sessao = df_ne[['SG_UF','NM_MUNICIPIO','NR_ZONA','NR_SECAO','NM_VOTAVEL','QT_VOTOS']].groupby(by=['SG_UF','NM_MUNICIPIO','NR_ZONA','NR_SECAO','NM_VOTAVEL']).sum(\"QT_VOTOS\")\n",
    "pivot_ne_sessao = results_ne_sessao.unstack(level='NM_VOTAVEL')\n",
    "pivot_ne_sessao"
   ]
  },
  {
   "cell_type": "markdown",
   "metadata": {},
   "source": [
    "## Export PIVOT"
   ]
  },
  {
   "cell_type": "code",
   "execution_count": 53,
   "metadata": {},
   "outputs": [],
   "source": [
    "pivot_ne_sessao.to_excel(\"Output/pivot_ne_sessao_2turno.xlsx\", merge_cells=False)"
   ]
  },
  {
   "cell_type": "code",
   "execution_count": 34,
   "metadata": {},
   "outputs": [],
   "source": [
    "# df_results = df_ne[['SG_UF','NM_MUNICIPIO']].copy()\n",
    "# df_results['Lula_abslt'] = \"\"\n",
    "# df_results['Bolsonaro_abslt'] = \"\"\n",
    "# df_results['Lula_pctg'] = \"\"\n",
    "# df_results['Bolsonaro_pctg'] = \"\"\n",
    "# df_results['VotosTotais'] = \"\"\n",
    "# df_results.drop_duplicates(inplace=True)\n",
    "# df_results = df_results.sort_values(by='SG_UF')\n",
    "# df_results"
   ]
  },
  {
   "cell_type": "code",
   "execution_count": 35,
   "metadata": {},
   "outputs": [],
   "source": [
    "# for i,r in df_results.iterrows():\n",
    "#     print(r['SG_UF'],r['NM_MUNICIPIO'])\n",
    "#     uf = r['SG_UF']\n",
    "#     muni = r['NM_MUNICIPIO']\n",
    "#     results = df_ne[(df_ne['SG_UF']==uf)&(df_ne['NM_MUNICIPIO']==muni)][['NM_VOTAVEL','QT_VOTOS']].groupby(by='NM_VOTAVEL').sum(\"QT_VOTOS\")\n",
    "#     results['pctg'] = (results.QT_VOTOS / results.QT_VOTOS.sum())*100\n",
    "#     df_results.at[i,'Lula_pctg'] = results[results.index=='LUIZ INÁCIO LULA DA SILVA']['pctg'][0]\n",
    "#     df_results.at[i,'Lula_abslt'] = results[results.index=='LUIZ INÁCIO LULA DA SILVA']['QT_VOTOS'][0]\n",
    "#     bolsonaro_pctg = results[results.index=='JAIR MESSIAS BOLSONARO']['pctg'][0]\n",
    "#     bolsonaro_abslt = results[results.index=='JAIR MESSIAS BOLSONARO']['QT_VOTOS'][0]    \n",
    "#     df_results.at[i,'Bolsonaro_pctg'] = bolsonaro_pctg\n",
    "#     df_results.at[i,'Bolsonaro_abslt'] = bolsonaro_abslt\n",
    "#     df_results.at[i,'VotosTotais'] = results.QT_VOTOS.sum()"
   ]
  },
  {
   "cell_type": "code",
   "execution_count": 36,
   "metadata": {},
   "outputs": [],
   "source": [
    "# df_results.sort_values(by='Bolsonaro_abslt')"
   ]
  },
  {
   "cell_type": "markdown",
   "metadata": {},
   "source": [
    "### Check specific Sessao and Zona"
   ]
  },
  {
   "cell_type": "code",
   "execution_count": 37,
   "metadata": {},
   "outputs": [
    {
     "data": {
      "text/html": [
       "<div>\n",
       "<style scoped>\n",
       "    .dataframe tbody tr th:only-of-type {\n",
       "        vertical-align: middle;\n",
       "    }\n",
       "\n",
       "    .dataframe tbody tr th {\n",
       "        vertical-align: top;\n",
       "    }\n",
       "\n",
       "    .dataframe thead th {\n",
       "        text-align: right;\n",
       "    }\n",
       "</style>\n",
       "<table border=\"1\" class=\"dataframe\">\n",
       "  <thead>\n",
       "    <tr style=\"text-align: right;\">\n",
       "      <th></th>\n",
       "      <th>SG_UF</th>\n",
       "      <th>NM_MUNICIPIO</th>\n",
       "      <th>NM_VOTAVEL</th>\n",
       "      <th>QT_VOTOS</th>\n",
       "    </tr>\n",
       "  </thead>\n",
       "  <tbody>\n",
       "    <tr>\n",
       "      <th>4024778</th>\n",
       "      <td>BA</td>\n",
       "      <td>PILÃO ARCADO</td>\n",
       "      <td>LUIZ INÁCIO LULA DA SILVA</td>\n",
       "      <td>65</td>\n",
       "    </tr>\n",
       "  </tbody>\n",
       "</table>\n",
       "</div>"
      ],
      "text/plain": [
       "        SG_UF  NM_MUNICIPIO                 NM_VOTAVEL  QT_VOTOS\n",
       "4024778    BA  PILÃO ARCADO  LUIZ INÁCIO LULA DA SILVA        65"
      ]
     },
     "execution_count": 37,
     "metadata": {},
     "output_type": "execute_result"
    }
   ],
   "source": [
    "zona = 195\n",
    "secao = 76\n",
    "check_secao = df_ne[(df_ne['NR_ZONA']==zona)&(df_ne['NR_SECAO']==secao)][['NM_VOTAVEL','QT_VOTOS']].groupby(by='NM_VOTAVEL').sum(\"QT_VOTOS\")\n",
    "df_ne[(df_ne['NR_ZONA']==zona)&(df_ne['NR_SECAO']==secao)][['SG_UF','NM_MUNICIPIO','NM_VOTAVEL','QT_VOTOS']]"
   ]
  }
 ],
 "metadata": {
  "kernelspec": {
   "display_name": "Python 3.9.13 ('gisvenv')",
   "language": "python",
   "name": "python3"
  },
  "language_info": {
   "codemirror_mode": {
    "name": "ipython",
    "version": 3
   },
   "file_extension": ".py",
   "mimetype": "text/x-python",
   "name": "python",
   "nbconvert_exporter": "python",
   "pygments_lexer": "ipython3",
   "version": "3.9.13"
  },
  "orig_nbformat": 4,
  "vscode": {
   "interpreter": {
    "hash": "a57a499e38a7967fa040836637b94548b2659327652d4f3c957151201e60ecd4"
   }
  }
 },
 "nbformat": 4,
 "nbformat_minor": 2
}
