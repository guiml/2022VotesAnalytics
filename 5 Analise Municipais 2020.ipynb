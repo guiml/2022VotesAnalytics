{
 "cells": [
  {
   "cell_type": "code",
   "execution_count": 7,
   "metadata": {},
   "outputs": [],
   "source": [
    "import pandas as pd\n",
    "import geopandas as gpd\n",
    "import matplotlib.pyplot as plt\n",
    "import contextily as ctx\n",
    "from shapely.geometry import Point\n",
    "import plotly_express as px"
   ]
  },
  {
   "cell_type": "markdown",
   "metadata": {},
   "source": [
    "### Municipal votes count for a specific vereador of Porto Alegre"
   ]
  },
  {
   "cell_type": "code",
   "execution_count": 8,
   "metadata": {},
   "outputs": [
    {
     "data": {
      "text/plain": [
       "Index(['DT_GERACAO', 'HH_GERACAO', 'ANO_ELEICAO', 'CD_TIPO_ELEICAO',\n",
       "       'NM_TIPO_ELEICAO', 'NR_TURNO', 'CD_ELEICAO', 'DS_ELEICAO', 'DT_ELEICAO',\n",
       "       'TP_ABRANGENCIA', 'SG_UF', 'SG_UE', 'NM_UE', 'CD_MUNICIPIO',\n",
       "       'NM_MUNICIPIO', 'NR_ZONA', 'NR_SECAO', 'CD_CARGO', 'DS_CARGO',\n",
       "       'NR_VOTAVEL', 'NM_VOTAVEL', 'QT_VOTOS', 'NR_LOCAL_VOTACAO'],\n",
       "      dtype='object')"
      ]
     },
     "execution_count": 8,
     "metadata": {},
     "output_type": "execute_result"
    }
   ],
   "source": [
    "df = pd.read_csv(r\"CSV/votacao_secao_2020_RS.csv\", encoding=\"Latin 1\", sep=\";\")\n",
    "df.columns"
   ]
  },
  {
   "cell_type": "markdown",
   "metadata": {},
   "source": [
    "#### Import geocoded places"
   ]
  },
  {
   "cell_type": "code",
   "execution_count": 9,
   "metadata": {},
   "outputs": [
    {
     "data": {
      "text/html": [
       "<div>\n",
       "<style scoped>\n",
       "    .dataframe tbody tr th:only-of-type {\n",
       "        vertical-align: middle;\n",
       "    }\n",
       "\n",
       "    .dataframe tbody tr th {\n",
       "        vertical-align: top;\n",
       "    }\n",
       "\n",
       "    .dataframe thead th {\n",
       "        text-align: right;\n",
       "    }\n",
       "</style>\n",
       "<table border=\"1\" class=\"dataframe\">\n",
       "  <thead>\n",
       "    <tr style=\"text-align: right;\">\n",
       "      <th></th>\n",
       "      <th>DT_GERACAO</th>\n",
       "      <th>HH_GERACAO</th>\n",
       "      <th>ANO_ELEICAO</th>\n",
       "      <th>CD_TIPO_ELEICAO</th>\n",
       "      <th>NM_TIPO_ELEICAO</th>\n",
       "      <th>NR_TURNO</th>\n",
       "      <th>CD_ELEICAO</th>\n",
       "      <th>DS_ELEICAO</th>\n",
       "      <th>DT_ELEICAO</th>\n",
       "      <th>TP_ABRANGENCIA</th>\n",
       "      <th>...</th>\n",
       "      <th>NR_ZONA</th>\n",
       "      <th>NR_SECAO</th>\n",
       "      <th>CD_CARGO</th>\n",
       "      <th>DS_CARGO</th>\n",
       "      <th>NR_VOTAVEL</th>\n",
       "      <th>NM_VOTAVEL</th>\n",
       "      <th>QT_VOTOS</th>\n",
       "      <th>NR_LOCAL_VOTACAO</th>\n",
       "      <th>NR_LATITUDE</th>\n",
       "      <th>NR_LONGITUDE</th>\n",
       "    </tr>\n",
       "  </thead>\n",
       "  <tbody>\n",
       "    <tr>\n",
       "      <th>0</th>\n",
       "      <td>21/12/2020</td>\n",
       "      <td>16:55:14</td>\n",
       "      <td>2020</td>\n",
       "      <td>2</td>\n",
       "      <td>ELEIÇÃO ORDINÁRIA</td>\n",
       "      <td>1</td>\n",
       "      <td>426</td>\n",
       "      <td>ELEIÇÕES MUNICIPAIS 2020</td>\n",
       "      <td>15/11/2020</td>\n",
       "      <td>M</td>\n",
       "      <td>...</td>\n",
       "      <td>51</td>\n",
       "      <td>150</td>\n",
       "      <td>11</td>\n",
       "      <td>PREFEITO</td>\n",
       "      <td>13</td>\n",
       "      <td>ARY JOSÉ VANAZZI</td>\n",
       "      <td>98</td>\n",
       "      <td>1031</td>\n",
       "      <td>-29.772053</td>\n",
       "      <td>-51.147099</td>\n",
       "    </tr>\n",
       "    <tr>\n",
       "      <th>1</th>\n",
       "      <td>21/12/2020</td>\n",
       "      <td>16:55:14</td>\n",
       "      <td>2020</td>\n",
       "      <td>2</td>\n",
       "      <td>ELEIÇÃO ORDINÁRIA</td>\n",
       "      <td>1</td>\n",
       "      <td>426</td>\n",
       "      <td>ELEIÇÕES MUNICIPAIS 2020</td>\n",
       "      <td>15/11/2020</td>\n",
       "      <td>M</td>\n",
       "      <td>...</td>\n",
       "      <td>51</td>\n",
       "      <td>150</td>\n",
       "      <td>11</td>\n",
       "      <td>PREFEITO</td>\n",
       "      <td>23</td>\n",
       "      <td>RONALDO TEIXEIRA DA SILVA</td>\n",
       "      <td>58</td>\n",
       "      <td>1031</td>\n",
       "      <td>-29.772053</td>\n",
       "      <td>-51.147099</td>\n",
       "    </tr>\n",
       "    <tr>\n",
       "      <th>2</th>\n",
       "      <td>21/12/2020</td>\n",
       "      <td>16:55:14</td>\n",
       "      <td>2020</td>\n",
       "      <td>2</td>\n",
       "      <td>ELEIÇÃO ORDINÁRIA</td>\n",
       "      <td>1</td>\n",
       "      <td>426</td>\n",
       "      <td>ELEIÇÕES MUNICIPAIS 2020</td>\n",
       "      <td>15/11/2020</td>\n",
       "      <td>M</td>\n",
       "      <td>...</td>\n",
       "      <td>51</td>\n",
       "      <td>150</td>\n",
       "      <td>11</td>\n",
       "      <td>PREFEITO</td>\n",
       "      <td>25</td>\n",
       "      <td>HELIOMAR ATHAYDES FRANCO</td>\n",
       "      <td>81</td>\n",
       "      <td>1031</td>\n",
       "      <td>-29.772053</td>\n",
       "      <td>-51.147099</td>\n",
       "    </tr>\n",
       "    <tr>\n",
       "      <th>3</th>\n",
       "      <td>21/12/2020</td>\n",
       "      <td>16:55:14</td>\n",
       "      <td>2020</td>\n",
       "      <td>2</td>\n",
       "      <td>ELEIÇÃO ORDINÁRIA</td>\n",
       "      <td>1</td>\n",
       "      <td>426</td>\n",
       "      <td>ELEIÇÕES MUNICIPAIS 2020</td>\n",
       "      <td>15/11/2020</td>\n",
       "      <td>M</td>\n",
       "      <td>...</td>\n",
       "      <td>51</td>\n",
       "      <td>150</td>\n",
       "      <td>11</td>\n",
       "      <td>PREFEITO</td>\n",
       "      <td>50</td>\n",
       "      <td>CÉLIO JULIANO BARROSO TRINDADE</td>\n",
       "      <td>3</td>\n",
       "      <td>1031</td>\n",
       "      <td>-29.772053</td>\n",
       "      <td>-51.147099</td>\n",
       "    </tr>\n",
       "    <tr>\n",
       "      <th>4</th>\n",
       "      <td>21/12/2020</td>\n",
       "      <td>16:55:14</td>\n",
       "      <td>2020</td>\n",
       "      <td>2</td>\n",
       "      <td>ELEIÇÃO ORDINÁRIA</td>\n",
       "      <td>1</td>\n",
       "      <td>426</td>\n",
       "      <td>ELEIÇÕES MUNICIPAIS 2020</td>\n",
       "      <td>15/11/2020</td>\n",
       "      <td>M</td>\n",
       "      <td>...</td>\n",
       "      <td>51</td>\n",
       "      <td>150</td>\n",
       "      <td>11</td>\n",
       "      <td>PREFEITO</td>\n",
       "      <td>95</td>\n",
       "      <td>VOTO BRANCO</td>\n",
       "      <td>8</td>\n",
       "      <td>1031</td>\n",
       "      <td>-29.772053</td>\n",
       "      <td>-51.147099</td>\n",
       "    </tr>\n",
       "  </tbody>\n",
       "</table>\n",
       "<p>5 rows × 25 columns</p>\n",
       "</div>"
      ],
      "text/plain": [
       "   DT_GERACAO HH_GERACAO  ANO_ELEICAO  CD_TIPO_ELEICAO    NM_TIPO_ELEICAO  \\\n",
       "0  21/12/2020   16:55:14         2020                2  ELEIÇÃO ORDINÁRIA   \n",
       "1  21/12/2020   16:55:14         2020                2  ELEIÇÃO ORDINÁRIA   \n",
       "2  21/12/2020   16:55:14         2020                2  ELEIÇÃO ORDINÁRIA   \n",
       "3  21/12/2020   16:55:14         2020                2  ELEIÇÃO ORDINÁRIA   \n",
       "4  21/12/2020   16:55:14         2020                2  ELEIÇÃO ORDINÁRIA   \n",
       "\n",
       "   NR_TURNO  CD_ELEICAO                DS_ELEICAO  DT_ELEICAO TP_ABRANGENCIA  \\\n",
       "0         1         426  ELEIÇÕES MUNICIPAIS 2020  15/11/2020              M   \n",
       "1         1         426  ELEIÇÕES MUNICIPAIS 2020  15/11/2020              M   \n",
       "2         1         426  ELEIÇÕES MUNICIPAIS 2020  15/11/2020              M   \n",
       "3         1         426  ELEIÇÕES MUNICIPAIS 2020  15/11/2020              M   \n",
       "4         1         426  ELEIÇÕES MUNICIPAIS 2020  15/11/2020              M   \n",
       "\n",
       "   ... NR_ZONA  NR_SECAO CD_CARGO  DS_CARGO NR_VOTAVEL  \\\n",
       "0  ...      51       150       11  PREFEITO         13   \n",
       "1  ...      51       150       11  PREFEITO         23   \n",
       "2  ...      51       150       11  PREFEITO         25   \n",
       "3  ...      51       150       11  PREFEITO         50   \n",
       "4  ...      51       150       11  PREFEITO         95   \n",
       "\n",
       "                       NM_VOTAVEL  QT_VOTOS  NR_LOCAL_VOTACAO NR_LATITUDE  \\\n",
       "0                ARY JOSÉ VANAZZI        98              1031  -29.772053   \n",
       "1       RONALDO TEIXEIRA DA SILVA        58              1031  -29.772053   \n",
       "2        HELIOMAR ATHAYDES FRANCO        81              1031  -29.772053   \n",
       "3  CÉLIO JULIANO BARROSO TRINDADE         3              1031  -29.772053   \n",
       "4                     VOTO BRANCO         8              1031  -29.772053   \n",
       "\n",
       "   NR_LONGITUDE  \n",
       "0    -51.147099  \n",
       "1    -51.147099  \n",
       "2    -51.147099  \n",
       "3    -51.147099  \n",
       "4    -51.147099  \n",
       "\n",
       "[5 rows x 25 columns]"
      ]
     },
     "execution_count": 9,
     "metadata": {},
     "output_type": "execute_result"
    }
   ],
   "source": [
    "geocoded_df = pd.read_csv(\"CSV/geocoded_voting_places_001.csv\")\n",
    "df_lat_long = df.merge(geocoded_df, on = ['CD_MUNICIPIO', 'NR_ZONA', 'NR_LOCAL_VOTACAO'], how = 'left')\n",
    "df_lat_long.head()"
   ]
  },
  {
   "cell_type": "markdown",
   "metadata": {},
   "source": [
    "#### Import nomes de locais"
   ]
  },
  {
   "cell_type": "code",
   "execution_count": 83,
   "metadata": {},
   "outputs": [
    {
     "data": {
      "text/html": [
       "<div>\n",
       "<style scoped>\n",
       "    .dataframe tbody tr th:only-of-type {\n",
       "        vertical-align: middle;\n",
       "    }\n",
       "\n",
       "    .dataframe tbody tr th {\n",
       "        vertical-align: top;\n",
       "    }\n",
       "\n",
       "    .dataframe thead th {\n",
       "        text-align: right;\n",
       "    }\n",
       "</style>\n",
       "<table border=\"1\" class=\"dataframe\">\n",
       "  <thead>\n",
       "    <tr style=\"text-align: right;\">\n",
       "      <th></th>\n",
       "      <th>Unnamed: 0</th>\n",
       "      <th>NM_MUNICIPIO</th>\n",
       "      <th>NR_ZONA</th>\n",
       "      <th>NR_SECAO</th>\n",
       "      <th>NR_LOCAL_VOTACAO</th>\n",
       "      <th>NM_LOCAL_VOTACAO</th>\n",
       "      <th>DS_LOCAL_VOTACAO_ENDERECO</th>\n",
       "    </tr>\n",
       "  </thead>\n",
       "  <tbody>\n",
       "    <tr>\n",
       "      <th>0</th>\n",
       "      <td>0</td>\n",
       "      <td>SELVÍRIA</td>\n",
       "      <td>9</td>\n",
       "      <td>157</td>\n",
       "      <td>1015</td>\n",
       "      <td>CENTRO ADMINISTRATIVO FABIANO MELO (ANTIGA FAC...</td>\n",
       "      <td>AV.  GOIÁS, 556</td>\n",
       "    </tr>\n",
       "    <tr>\n",
       "      <th>1</th>\n",
       "      <td>1</td>\n",
       "      <td>PELOTAS</td>\n",
       "      <td>60</td>\n",
       "      <td>500</td>\n",
       "      <td>2526</td>\n",
       "      <td>UNIÃO GAÚCHA J. SIMÕES LOPES NETO</td>\n",
       "      <td>AV. ENGENHEIRO ILDEFONSO SIMÕES LOPES, 531</td>\n",
       "    </tr>\n",
       "    <tr>\n",
       "      <th>2</th>\n",
       "      <td>2</td>\n",
       "      <td>BELO HORIZONTE</td>\n",
       "      <td>35</td>\n",
       "      <td>221</td>\n",
       "      <td>1180</td>\n",
       "      <td>UTRAMIG</td>\n",
       "      <td>AVENIDA AFONSO PENA, 3400</td>\n",
       "    </tr>\n",
       "    <tr>\n",
       "      <th>3</th>\n",
       "      <td>3</td>\n",
       "      <td>POTÉ</td>\n",
       "      <td>270</td>\n",
       "      <td>92</td>\n",
       "      <td>1023</td>\n",
       "      <td>ESCOLA ESTADUAL GUIMARAES ROSA</td>\n",
       "      <td>RUA ELIEZER PENA, 177</td>\n",
       "    </tr>\n",
       "    <tr>\n",
       "      <th>4</th>\n",
       "      <td>4</td>\n",
       "      <td>SÃO JOÃO DE MERITI</td>\n",
       "      <td>187</td>\n",
       "      <td>300</td>\n",
       "      <td>1139</td>\n",
       "      <td>COLÉGIO ESTADUAL RUBENS FARRULA</td>\n",
       "      <td>AV. PLACIDO FIGUEIREDO JUNIOR, S/N</td>\n",
       "    </tr>\n",
       "  </tbody>\n",
       "</table>\n",
       "</div>"
      ],
      "text/plain": [
       "   Unnamed: 0        NM_MUNICIPIO  NR_ZONA  NR_SECAO  NR_LOCAL_VOTACAO  \\\n",
       "0           0            SELVÍRIA        9       157              1015   \n",
       "1           1             PELOTAS       60       500              2526   \n",
       "2           2      BELO HORIZONTE       35       221              1180   \n",
       "3           3                POTÉ      270        92              1023   \n",
       "4           4  SÃO JOÃO DE MERITI      187       300              1139   \n",
       "\n",
       "                                    NM_LOCAL_VOTACAO  \\\n",
       "0  CENTRO ADMINISTRATIVO FABIANO MELO (ANTIGA FAC...   \n",
       "1                  UNIÃO GAÚCHA J. SIMÕES LOPES NETO   \n",
       "2                                            UTRAMIG   \n",
       "3                     ESCOLA ESTADUAL GUIMARAES ROSA   \n",
       "4                    COLÉGIO ESTADUAL RUBENS FARRULA   \n",
       "\n",
       "                    DS_LOCAL_VOTACAO_ENDERECO  \n",
       "0                             AV.  GOIÁS, 556  \n",
       "1  AV. ENGENHEIRO ILDEFONSO SIMÕES LOPES, 531  \n",
       "2                   AVENIDA AFONSO PENA, 3400  \n",
       "3      RUA ELIEZER PENA, 177                   \n",
       "4          AV. PLACIDO FIGUEIREDO JUNIOR, S/N  "
      ]
     },
     "execution_count": 83,
     "metadata": {},
     "output_type": "execute_result"
    }
   ],
   "source": [
    "nomeslocais = pd.read_csv(\"CSV/NomesLocais.csv\")\n",
    "nomeslocais.head()"
   ]
  },
  {
   "cell_type": "markdown",
   "metadata": {},
   "source": [
    "### Merge geocoded and nome locais"
   ]
  },
  {
   "cell_type": "code",
   "execution_count": 84,
   "metadata": {},
   "outputs": [
    {
     "data": {
      "text/plain": [
       "(1951552, 29)"
      ]
     },
     "execution_count": 84,
     "metadata": {},
     "output_type": "execute_result"
    }
   ],
   "source": [
    "df_votos_vereador_nmlocal = pd.merge(df_lat_long, nomeslocais, on = ['NM_MUNICIPIO','NR_ZONA','NR_SECAO'])\n",
    "df_votos_vereador_nmlocal.shape"
   ]
  },
  {
   "cell_type": "markdown",
   "metadata": {},
   "source": [
    "#### Check for Nome do Vereador"
   ]
  },
  {
   "cell_type": "code",
   "execution_count": 92,
   "metadata": {},
   "outputs": [],
   "source": [
    "df_votos_vereador = df_votos_vereador_nmlocal[df_votos_vereador_nmlocal['NM_VOTAVEL']=='LUCAS SALOMÓN DA SILVA FUHR'][['NM_MUNICIPIO','NM_VOTAVEL','NM_LOCAL_VOTACAO', 'NR_ZONA','QT_VOTOS']]"
   ]
  },
  {
   "cell_type": "markdown",
   "metadata": {},
   "source": [
    "#### Dataquality check"
   ]
  },
  {
   "cell_type": "code",
   "execution_count": 93,
   "metadata": {},
   "outputs": [
    {
     "data": {
      "text/plain": [
       "717"
      ]
     },
     "execution_count": 93,
     "metadata": {},
     "output_type": "execute_result"
    }
   ],
   "source": [
    "df_votos_vereador['QT_VOTOS'].sum()"
   ]
  },
  {
   "cell_type": "markdown",
   "metadata": {},
   "source": [
    "#### Export"
   ]
  },
  {
   "cell_type": "code",
   "execution_count": 97,
   "metadata": {},
   "outputs": [],
   "source": [
    "df_votos_vereador_g = df_votos_vereador[['NR_ZONA','NM_LOCAL_VOTACAO','QT_VOTOS']].groupby(by=['NR_ZONA','NM_LOCAL_VOTACAO']).sum('QT_VOTOS')\n",
    "df_votos_vereador_g.to_excel('votos_fuhr_2020.xlsx', merge_cells=False)"
   ]
  },
  {
   "cell_type": "code",
   "execution_count": null,
   "metadata": {},
   "outputs": [],
   "source": []
  }
 ],
 "metadata": {
  "kernelspec": {
   "display_name": "Python 3.9.13 ('gisvenv')",
   "language": "python",
   "name": "python3"
  },
  "language_info": {
   "codemirror_mode": {
    "name": "ipython",
    "version": 3
   },
   "file_extension": ".py",
   "mimetype": "text/x-python",
   "name": "python",
   "nbconvert_exporter": "python",
   "pygments_lexer": "ipython3",
   "version": "3.9.13"
  },
  "orig_nbformat": 4,
  "vscode": {
   "interpreter": {
    "hash": "a57a499e38a7967fa040836637b94548b2659327652d4f3c957151201e60ecd4"
   }
  }
 },
 "nbformat": 4,
 "nbformat_minor": 2
}
