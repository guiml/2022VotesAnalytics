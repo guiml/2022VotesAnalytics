{
 "cells": [
  {
   "cell_type": "markdown",
   "metadata": {},
   "source": [
    "## Import libraries"
   ]
  },
  {
   "cell_type": "code",
   "execution_count": 5,
   "metadata": {},
   "outputs": [],
   "source": [
    "from bs4 import BeautifulSoup\n",
    "import pandas as pd\n",
    "import urllib.request\n",
    "import openpyxl\n",
    "import json"
   ]
  },
  {
   "cell_type": "code",
   "execution_count": 6,
   "metadata": {},
   "outputs": [],
   "source": [
    "json_source = \"https://resultados.tse.jus.br/oficial/ele2022/544/dados/rs/rs88013-c0001-e000544-v.json\"\n",
    "with urllib.request.urlopen(json_source) as url:\n",
    "    data = json.load(url)"
   ]
  },
  {
   "cell_type": "code",
   "execution_count": 7,
   "metadata": {},
   "outputs": [
    {
     "name": "stdout",
     "output_type": "stream",
     "text": [
      "Zona: 113\n",
      "Partido: 22, Votos: 29024\n",
      "Partido: 13, Votos: 44098\n",
      "Partido: 15, Votos: 4528\n",
      "Partido: 12, Votos: 3332\n",
      "Partido: 30, Votos: 777\n",
      "Partido: 44, Votos: 313\n",
      "Partido: 14, Votos: 40\n",
      "Partido: 21, Votos: 53\n",
      "Partido: 80, Votos: 77\n",
      "Partido: 16, Votos: 28\n",
      "Partido: 27, Votos: 9\n",
      "Zona: 158\n",
      "Partido: 22, Votos: 33103\n",
      "Partido: 13, Votos: 44848\n",
      "Partido: 15, Votos: 3850\n",
      "Partido: 12, Votos: 2931\n",
      "Partido: 30, Votos: 494\n",
      "Partido: 44, Votos: 436\n",
      "Partido: 14, Votos: 74\n",
      "Partido: 21, Votos: 46\n",
      "Partido: 80, Votos: 63\n",
      "Partido: 16, Votos: 31\n",
      "Partido: 27, Votos: 19\n",
      "Zona: 161\n",
      "Partido: 22, Votos: 27831\n",
      "Partido: 13, Votos: 42684\n",
      "Partido: 15, Votos: 3401\n",
      "Partido: 12, Votos: 2634\n",
      "Partido: 30, Votos: 376\n",
      "Partido: 44, Votos: 408\n",
      "Partido: 14, Votos: 53\n",
      "Partido: 21, Votos: 42\n",
      "Partido: 80, Votos: 61\n",
      "Partido: 16, Votos: 44\n",
      "Partido: 27, Votos: 15\n",
      "Zona: 159\n",
      "Partido: 22, Votos: 26570\n",
      "Partido: 13, Votos: 46379\n",
      "Partido: 15, Votos: 3305\n",
      "Partido: 12, Votos: 2557\n",
      "Partido: 30, Votos: 400\n",
      "Partido: 44, Votos: 414\n",
      "Partido: 14, Votos: 54\n",
      "Partido: 21, Votos: 36\n",
      "Partido: 80, Votos: 70\n",
      "Partido: 16, Votos: 28\n",
      "Partido: 27, Votos: 18\n",
      "Zona: 1\n",
      "Partido: 22, Votos: 28730\n",
      "Partido: 13, Votos: 42147\n",
      "Partido: 15, Votos: 4574\n",
      "Partido: 12, Votos: 3434\n",
      "Partido: 30, Votos: 796\n",
      "Partido: 44, Votos: 233\n",
      "Partido: 14, Votos: 49\n",
      "Partido: 21, Votos: 73\n",
      "Partido: 80, Votos: 48\n",
      "Partido: 16, Votos: 59\n",
      "Partido: 27, Votos: 13\n",
      "Zona: 2\n",
      "Partido: 22, Votos: 40850\n",
      "Partido: 13, Votos: 43076\n",
      "Partido: 15, Votos: 6776\n",
      "Partido: 12, Votos: 4148\n",
      "Partido: 30, Votos: 1446\n",
      "Partido: 44, Votos: 267\n",
      "Partido: 14, Votos: 40\n",
      "Partido: 21, Votos: 86\n",
      "Partido: 80, Votos: 64\n",
      "Partido: 16, Votos: 40\n",
      "Partido: 27, Votos: 24\n",
      "Zona: 112\n",
      "Partido: 22, Votos: 39733\n",
      "Partido: 13, Votos: 36617\n",
      "Partido: 15, Votos: 5162\n",
      "Partido: 12, Votos: 3708\n",
      "Partido: 30, Votos: 1063\n",
      "Partido: 44, Votos: 336\n",
      "Partido: 14, Votos: 50\n",
      "Partido: 21, Votos: 55\n",
      "Partido: 80, Votos: 77\n",
      "Partido: 16, Votos: 25\n",
      "Partido: 27, Votos: 13\n",
      "Zona: 111\n",
      "Partido: 22, Votos: 39001\n",
      "Partido: 13, Votos: 33063\n",
      "Partido: 15, Votos: 5681\n",
      "Partido: 12, Votos: 3537\n",
      "Partido: 30, Votos: 1360\n",
      "Partido: 44, Votos: 273\n",
      "Partido: 14, Votos: 46\n",
      "Partido: 21, Votos: 42\n",
      "Partido: 80, Votos: 48\n",
      "Partido: 16, Votos: 9\n",
      "Partido: 27, Votos: 24\n",
      "Zona: 114\n",
      "Partido: 22, Votos: 27543\n",
      "Partido: 13, Votos: 41552\n",
      "Partido: 15, Votos: 3680\n",
      "Partido: 12, Votos: 2799\n",
      "Partido: 30, Votos: 494\n",
      "Partido: 44, Votos: 378\n",
      "Partido: 14, Votos: 45\n",
      "Partido: 21, Votos: 44\n",
      "Partido: 80, Votos: 58\n",
      "Partido: 16, Votos: 38\n",
      "Partido: 27, Votos: 17\n",
      "Zona: 160\n",
      "Partido: 22, Votos: 31472\n",
      "Partido: 13, Votos: 38089\n",
      "Partido: 15, Votos: 4498\n",
      "Partido: 12, Votos: 3451\n",
      "Partido: 30, Votos: 828\n",
      "Partido: 44, Votos: 353\n",
      "Partido: 14, Votos: 47\n",
      "Partido: 21, Votos: 45\n",
      "Partido: 80, Votos: 60\n",
      "Partido: 16, Votos: 41\n",
      "Partido: 27, Votos: 11\n"
     ]
    }
   ],
   "source": [
    "for i in range(1,len(data['abr'])):\n",
    "    print(f\"Zona: {data['abr'][i]['cdabr']}\")\n",
    "    for pos in data['abr'][i]['cand']:\n",
    "        print(f\"Partido: {pos['n']}, Votos: {pos['vap']}\")"
   ]
  },
  {
   "cell_type": "markdown",
   "metadata": {},
   "source": []
  }
 ],
 "metadata": {
  "kernelspec": {
   "display_name": "Python 3.9.13 ('gisvenv')",
   "language": "python",
   "name": "python3"
  },
  "language_info": {
   "codemirror_mode": {
    "name": "ipython",
    "version": 3
   },
   "file_extension": ".py",
   "mimetype": "text/x-python",
   "name": "python",
   "nbconvert_exporter": "python",
   "pygments_lexer": "ipython3",
   "version": "3.9.13"
  },
  "orig_nbformat": 4,
  "vscode": {
   "interpreter": {
    "hash": "a57a499e38a7967fa040836637b94548b2659327652d4f3c957151201e60ecd4"
   }
  }
 },
 "nbformat": 4,
 "nbformat_minor": 2
}
